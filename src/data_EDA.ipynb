# Download latest version
path = kagglehub.dataset_download("mukeshdevrath007/drugs-and-conditions-patient-voices-2-8l")
print("Path to dataset files:", path)

print("Files in dataset folder:")
print(os.listdir(path))
file_path = os.path.join(path, "MedicalReviews_280000.csv")
df = pd.read_csv(file_path)
df.head()

# The data variables
print("Columns:", df.columns.tolist())
# Checking average review length
df['Content'] = df['Content'].astype(str)
df['review_length'] = df['Content'].apply(lambda x: len(x.split()))
print("Review length (mean +/- std):",
      round(df['review_length'].mean(), 2), "+/-", round(df['review_length'].std(), 2))

# Checking how many drugs are in the data
unique_drugs = df['Drug Name'].unique()
# Checking how many conditions are in the data
unique_conditions = df['Condition'].unique()
print(f"Number of unique drugs: {len(unique_drugs)}")
print("Example drugs:", unique_drugs[:10])
print(f"\nNumber of unique conditions: {len(unique_conditions)}")
print("Example conditions:", unique_conditions[:10])

# Distribution of review length
plt.figure(figsize=(10, 5))
sns.histplot(df['review_length'], bins=50, kde=True)
plt.title("Distribution of Review Lengths")
plt.xlabel("Number of words")
plt.ylabel("Frequency")
plt.show

# Checking if the reviews contain HTML, HTTP links and double spacing
has_html = df['Content'].str.contains(r'<[^>]+>', regex=True).sum()
print(f"Number of reviews containing html: {has_html}")
has_links = df['Content'].str.contains(r'http\S+', regex=True).sum()
print(f"Number of reviews containing links: {has_links}")
has_extra_spaces = df['Content'].str.contains(r'\s{2,}', regex=True).sum()
print(f"Number of reviews containing extra spaces: {has_extra_spaces}")

# Cleaning the text
def clean_text(text):
    text = str(text).lower()
    text = re.sub(r'<[^>]+>', '', text)
    text = re.sub(r'http\S+', '', text)
    text = re.sub(r'\s+', ' ', text).strip()
    return text

# Checking how many rows don't have content / rating
unknown_content = df['Content'].str.lower().str.contains('unknown').sum()
print(f"Number of reviews that don't have content: {unknown_content}")
unknown_rating = df['Rating'].str.lower().str.contains('unknown').sum()
print(f"Number of reviews that don't have numeric rating: {unknown_rating}")

# Pie-chart of distributions
df['Rating'] = pd.to_numeric(df['Rating'], errors='coerce')
rating_counts = df['Rating'].value_counts().sort_index()
plt.figure(figsize=(8, 8))
plt.pie(rating_counts, labels=rating_counts.index.astype(int), autopct='%1.1f%%', startangle=90,
        colors=plt.cm.viridis_r(np.linspace(0, 1, len(rating_counts))))
plt.title("Rating Distribution (Pie Chart)")
plt.axis('equal')
plt.show()

# Rating Distribution
plt.figure(figsize=(8, 5))
sns.histplot(df['Rating'], bins=20, kde=True, color='skyblue')
plt.title('Distribution of Rating')
plt.xlabel('Rating')
plt.ylabel('number of reviews')
plt.grid(True)
plt.tight_layout()
plt.show()


