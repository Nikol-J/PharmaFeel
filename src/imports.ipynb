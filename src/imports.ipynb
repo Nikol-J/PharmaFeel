#!pip install -q sentence-transformers
#!pip install --upgrade xgboost
#!pip install openai azure-core
#!pip install scispacy
#!pip install https://s3-us-west-2.amazonaws.com/ai2-s2-scispacy/releases/v0.4.0/en_ner_bc5cdr_md-0.4.0.tar.gz
#!pip install openai faiss-cpu tqdm

from sentence_transformers import SentenceTransformer
import kagglehub
import os
import pandas as pd
import matplotlib.pyplot as plt
import seaborn as sns
import re
import nltk
import numpy as np
from nltk.corpus import stopwords
from sklearn.linear_model import LogisticRegression
from sklearn.model_selection import train_test_split
from sklearn.metrics import classification_report, accuracy_score
from sentence_transformers import SentenceTransformer
from imblearn.over_sampling import RandomOverSampler
import torch
from datasets import Dataset
from transformers import AutoTokenizer, AutoModelForSequenceClassification, TrainingArguments, Trainer
from peft import get_peft_model, LoraConfig, TaskType
import gc
from datasets import load_metric
import transformers
from sklearn.linear_model import LinearRegression
from sklearn.metrics import mean_squared_error, mean_absolute_error, r2_score
from sklearn.utils import resample
from sklearn.neighbors import KNeighborsRegressor
import pickle
from math import ceil
from sklearn.linear_model import Ridge
from sklearn.metrics import classification_report, confusion_matrix
from xgboost import XGBClassifier
import xgboost
from sklearn.utils.class_weight import compute_class_weight
from imblearn.over_sampling import RandomOverSampler
from collections import Counter
import openai
from openai import OpenAI
import tqdm
from openai import AzureOpenAI
from kagglehub import dataset_download
from transformers import pipeline
from collections import defaultdict
from collections import Counter
from tqdm import tqdm
import faiss
