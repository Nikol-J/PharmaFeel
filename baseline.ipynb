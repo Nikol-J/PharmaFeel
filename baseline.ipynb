# Baseline model - Logistic Regression
# SBERT embeddings - 'all-MiniLM-L6-v2'.
# Label balancing : None.
# Performing on 10,000 reviews.
# Accuracy: 0.644

# Creating Labels from rating
def label_from_rating(rating):
    if rating >= 7:
        return 'positive'
    elif rating <= 3:
        return 'negative'
    else:
        return 'neutral'

sample_df = df[df['Rating'].notnull()].sample(n=10000, random_state=42).copy()
sample_df['Rating'] = pd.to_numeric(sample_df['Rating'], errors='coerce')
sample_df['cleaned_content'] = sample_df['Content'].apply(clean_text)
sample_df['true_sentiment'] = sample_df['Rating'].apply(label_from_rating)
